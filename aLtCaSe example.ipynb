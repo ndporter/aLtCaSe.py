{
 "cells": [
  {
   "cell_type": "markdown",
   "metadata": {},
   "source": [
    "# Example use for aLtCaSe.py"
   ]
  },
  {
   "cell_type": "code",
   "execution_count": 2,
   "metadata": {},
   "outputs": [],
   "source": [
    "#instead of using this, you can download the aLtCaSe.py file from this repository and import it\n",
    "import math\n",
    "\n",
    "def aLtCaSe(s):\n",
    "    foo = ''\n",
    "    for pos in range(len(s)):\n",
    "        if math.remainder(pos,2)==0:\n",
    "            foo = foo+str.lower(s[pos])\n",
    "        else:\n",
    "            foo = foo+str.upper(s[pos])\n",
    "    return foo"
   ]
  },
  {
   "cell_type": "code",
   "execution_count": 3,
   "metadata": {},
   "outputs": [
    {
     "data": {
      "text/plain": [
       "'tHiS Is a tEsT StRiNg'"
      ]
     },
     "execution_count": 3,
     "metadata": {},
     "output_type": "execute_result"
    }
   ],
   "source": [
    "#usage example\n",
    "t_str = 'This is a Test String'\n",
    "aLtCaSe(t_str)"
   ]
  },
  {
   "cell_type": "code",
   "execution_count": null,
   "metadata": {},
   "outputs": [],
   "source": []
  }
 ],
 "metadata": {
  "kernelspec": {
   "display_name": "Python 3",
   "language": "python",
   "name": "python3"
  },
  "language_info": {
   "codemirror_mode": {
    "name": "ipython",
    "version": 3
   },
   "file_extension": ".py",
   "mimetype": "text/x-python",
   "name": "python",
   "nbconvert_exporter": "python",
   "pygments_lexer": "ipython3",
   "version": "3.7.0"
  }
 },
 "nbformat": 4,
 "nbformat_minor": 2
}
